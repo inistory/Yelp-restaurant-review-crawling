{
 "cells": [
  {
   "cell_type": "code",
   "execution_count": 1,
   "metadata": {
    "colab": {
     "base_uri": "https://localhost:8080/",
     "height": 326
    },
    "colab_type": "code",
    "executionInfo": {
     "elapsed": 14310,
     "status": "ok",
     "timestamp": 1575897410879,
     "user": {
      "displayName": "김정인",
      "photoUrl": "https://lh3.googleusercontent.com/a-/AAuE7mDsqe_my_cxIWOBclqNcFbcEx8OBBtgMpEstrEEsg=s64",
      "userId": "11915939704307778496"
     },
     "user_tz": -540
    },
    "id": "DYPSKGnnJsOH",
    "outputId": "ba9b1acc-9205-4077-f837-3a23e1d7ffd6",
    "scrolled": false
   },
   "outputs": [
    {
     "name": "stdout",
     "output_type": "stream",
     "text": [
      "Requirement already satisfied: beautifulsoup4 in /Users/kji/hatespeech/lib/python3.7/site-packages (4.8.1)\n",
      "Requirement already satisfied: soupsieve>=1.2 in /Users/kji/hatespeech/lib/python3.7/site-packages (from beautifulsoup4) (1.9.5)\n",
      "Requirement already satisfied: requests in /Users/kji/hatespeech/lib/python3.7/site-packages (2.22.0)\n",
      "Requirement already satisfied: chardet<3.1.0,>=3.0.2 in /Users/kji/hatespeech/lib/python3.7/site-packages (from requests) (3.0.4)\n",
      "Requirement already satisfied: certifi>=2017.4.17 in /Users/kji/hatespeech/lib/python3.7/site-packages (from requests) (2019.9.11)\n",
      "Requirement already satisfied: urllib3!=1.25.0,!=1.25.1,<1.26,>=1.21.1 in /Users/kji/hatespeech/lib/python3.7/site-packages (from requests) (1.25.7)\n",
      "Requirement already satisfied: idna<2.9,>=2.5 in /Users/kji/hatespeech/lib/python3.7/site-packages (from requests) (2.8)\n",
      "Requirement already satisfied: textblob in /Users/kji/hatespeech/lib/python3.7/site-packages (0.15.3)\n",
      "Requirement already satisfied: nltk>=3.1 in /Users/kji/hatespeech/lib/python3.7/site-packages (from textblob) (3.4.5)\n",
      "Requirement already satisfied: six in /Users/kji/hatespeech/lib/python3.7/site-packages (from nltk>=3.1->textblob) (1.13.0)\n",
      "Requirement already satisfied: singledispatch in /Users/kji/hatespeech/lib/python3.7/site-packages (from nltk>=3.1->textblob) (3.4.0.3)\n",
      "Requirement already satisfied: nltk in /Users/kji/hatespeech/lib/python3.7/site-packages (3.4.5)\n",
      "Requirement already satisfied: singledispatch in /Users/kji/hatespeech/lib/python3.7/site-packages (from nltk) (3.4.0.3)\n",
      "Requirement already satisfied: six in /Users/kji/hatespeech/lib/python3.7/site-packages (from nltk) (1.13.0)\n",
      "Requirement already satisfied: selenium in /Users/kji/hatespeech/lib/python3.7/site-packages (3.141.0)\n",
      "Requirement already satisfied: urllib3 in /Users/kji/hatespeech/lib/python3.7/site-packages (from selenium) (1.25.7)\n"
     ]
    }
   ],
   "source": [
    "!pip install beautifulsoup4\n",
    "!pip install requests\n",
    "!pip install textblob\n",
    "!pip install nltk\n",
    "!pip install selenium"
   ]
  },
  {
   "cell_type": "code",
   "execution_count": 2,
   "metadata": {
    "colab": {
     "base_uri": "https://localhost:8080/",
     "height": 68
    },
    "colab_type": "code",
    "executionInfo": {
     "elapsed": 2105,
     "status": "ok",
     "timestamp": 1575897415478,
     "user": {
      "displayName": "김정인",
      "photoUrl": "https://lh3.googleusercontent.com/a-/AAuE7mDsqe_my_cxIWOBclqNcFbcEx8OBBtgMpEstrEEsg=s64",
      "userId": "11915939704307778496"
     },
     "user_tz": -540
    },
    "id": "m7tWCpjSJsON",
    "outputId": "32770b83-d8a5-47fb-b045-7262900841aa"
   },
   "outputs": [
    {
     "name": "stderr",
     "output_type": "stream",
     "text": [
      "[nltk_data] Downloading package punkt to /Users/kji/nltk_data...\n",
      "[nltk_data]   Package punkt is already up-to-date!\n"
     ]
    },
    {
     "data": {
      "text/plain": [
       "True"
      ]
     },
     "execution_count": 2,
     "metadata": {},
     "output_type": "execute_result"
    }
   ],
   "source": [
    "import nltk\n",
    "nltk.download('punkt')"
   ]
  },
  {
   "cell_type": "code",
   "execution_count": 3,
   "metadata": {
    "colab": {},
    "colab_type": "code",
    "id": "0pAC9zh2JsOQ"
   },
   "outputs": [],
   "source": [
    "from selenium import webdriver\n",
    "from bs4 import BeautifulSoup\n",
    "import time\n",
    "import pandas as pd\n",
    "import random\n",
    "import numpy as np\n",
    "import os\n",
    "import csv\n",
    "import sys"
   ]
  },
  {
   "cell_type": "code",
   "execution_count": 4,
   "metadata": {
    "colab": {},
    "colab_type": "code",
    "id": "7QeyfGzwJsOT"
   },
   "outputs": [],
   "source": [
    "import requests\n",
    "from bs4 import BeautifulSoup\n",
    "from textblob.classifiers import NaiveBayesClassifier\n",
    "from textblob.classifiers import DecisionTreeClassifier\n",
    "from textblob.classifiers import MaxEntClassifier"
   ]
  },
  {
   "cell_type": "code",
   "execution_count": 5,
   "metadata": {},
   "outputs": [],
   "source": [
    "MAX_SENTENCES = 10\n",
    "MAX_SENTENCE_LENGTH = 25"
   ]
  },
  {
   "cell_type": "code",
   "execution_count": 6,
   "metadata": {
    "colab": {},
    "colab_type": "code",
    "id": "MSz-aSlOJsOY"
   },
   "outputs": [],
   "source": [
    "def score_transfer(score):\n",
    "    score_list = score.split(\"/\")\n",
    "    if score == '5' or score == '4' or score == '3':\n",
    "        score = \"pos\"\n",
    "    if score =='2' or score =='1' or score=='0':\n",
    "        score = \"neg\"\n",
    "    transformed_score = score\n",
    "    return transformed_score"
   ]
  },
  {
   "cell_type": "code",
   "execution_count": 7,
   "metadata": {
    "colab": {},
    "colab_type": "code",
    "id": "R_VxdbusJsOb"
   },
   "outputs": [],
   "source": [
    "review_table = []\n",
    "page = [20,40,60,80,100,120,140,160,180,200,220,240,260,280,300]\n",
    "for num in page:\n",
    "    url = requests.get(\"https://www.yelp.com/biz/kingdom-of-dumpling-san-francisco-7?start=\"+str(num))\n",
    "    soup = BeautifulSoup(url.text,'html.parser')\n",
    "    each_review = soup.findAll(\"li\", attrs={\"class\":\"lemon--li__373c0__1r9wz u-space-b3 u-padding-b3 border--bottom__373c0__uPbXS border-color--default__373c0__2oFDT\"})\n",
    "    for review in each_review:\n",
    "        star_point = review.find(\"div\", attrs={\"class\":\"lemon--div__373c0__1mboc i-stars__373c0__Y2F3O i-stars--regular-4__373c0__3acau border-color--default__373c0__2oFDT overflow--hidden__373c0__8Jq2I\"})\n",
    "        if star_point == None:\n",
    "            star_point = review.find(\"div\", attrs={\"class\":\"lemon--div__373c0__1mboc i-stars__373c0__Y2F3O i-stars--regular-5__373c0__ySHIl border-color--default__373c0__2oFDT overflow--hidden__373c0__8Jq2I\"})\n",
    "        if star_point == None:\n",
    "            star_point = review.find(\"div\", attrs={\"class\":\"lemon--div__373c0__1mboc i-stars__373c0__Y2F3O i-stars--regular-3__373c0__1DXMK border-color--default__373c0__2oFDT overflow--hidden__373c0__8Jq2I\"})\n",
    "        if star_point == None:\n",
    "            star_point = review.find(\"div\", attrs={\"class\":\"lemon--div__373c0__1mboc i-stars__373c0__Y2F3O i-stars--regular-2__373c0__rHJw2 border-color--default__373c0__2oFDT overflow--hidden__373c0__8Jq2I\"})\n",
    "        if star_point == None:\n",
    "             star_point = review.find(\"div\", attrs={\"class\":\"lemon--div__373c0__1mboc i-stars__373c0__Y2F3O i-stars--regular-1__373c0__14nrQ border-color--default__373c0__2oFDT overflow--hidden__373c0__8Jq2I\"})\n",
    "\n",
    "        review_text = review.find(\"p\", attrs={\"class\":\"lemon--p__373c0__3Qnnj text__373c0__2pB8f comment__373c0__3EKjH text-color--normal__373c0__K_MKN text-align--left__373c0__2pnx_\"})\n",
    "        score = score_transfer(star_point[\"aria-label\"].split(\" \")[0])\n",
    "        review_table.append([review_text.get_text(), score.split(\" \")[0]])\n"
   ]
  },
  {
   "cell_type": "code",
   "execution_count": 8,
   "metadata": {
    "colab": {
     "base_uri": "https://localhost:8080/",
     "height": 1000
    },
    "colab_type": "code",
    "executionInfo": {
     "elapsed": 61360,
     "status": "ok",
     "timestamp": 1575899040189,
     "user": {
      "displayName": "김정인",
      "photoUrl": "https://lh3.googleusercontent.com/a-/AAuE7mDsqe_my_cxIWOBclqNcFbcEx8OBBtgMpEstrEEsg=s64",
      "userId": "11915939704307778496"
     },
     "user_tz": -540
    },
    "id": "VGqyfnRVJsOe",
    "outputId": "1977b662-c440-42a1-eb11-58a9b3df1c7f",
    "scrolled": true
   },
   "outputs": [],
   "source": [
    "#review_table"
   ]
  },
  {
   "cell_type": "code",
   "execution_count": 9,
   "metadata": {
    "colab": {
     "base_uri": "https://localhost:8080/",
     "height": 187
    },
    "colab_type": "code",
    "executionInfo": {
     "elapsed": 2663,
     "status": "ok",
     "timestamp": 1575899806190,
     "user": {
      "displayName": "김정인",
      "photoUrl": "https://lh3.googleusercontent.com/a-/AAuE7mDsqe_my_cxIWOBclqNcFbcEx8OBBtgMpEstrEEsg=s64",
      "userId": "11915939704307778496"
     },
     "user_tz": -540
    },
    "id": "4VIJPnrK213f",
    "outputId": "b90a6344-7930-4c0f-e000-6d64e7d2acb9"
   },
   "outputs": [],
   "source": [
    "texts = []\n",
    "label = []\n",
    "def vec(list):\n",
    "    if list == 'pos':\n",
    "        return 1\n",
    "    if list =='neg':\n",
    "        return 0\n",
    "\n",
    "for i in range(len(review_table)):\n",
    "    texts.append(review_table[i][0])\n",
    "    label.append(review_table[i][1])\n"
   ]
  },
  {
   "cell_type": "code",
   "execution_count": 10,
   "metadata": {},
   "outputs": [],
   "source": [
    "labels = []\n",
    "for i in range(len(label)):\n",
    "    labels.append(vec(label[i]))"
   ]
  },
  {
   "cell_type": "code",
   "execution_count": 11,
   "metadata": {},
   "outputs": [],
   "source": [
    "#texts"
   ]
  },
  {
   "cell_type": "code",
   "execution_count": 12,
   "metadata": {},
   "outputs": [],
   "source": [
    "#labels"
   ]
  },
  {
   "cell_type": "code",
   "execution_count": 13,
   "metadata": {
    "scrolled": true
   },
   "outputs": [
    {
     "name": "stdout",
     "output_type": "stream",
     "text": [
      "texts 길이: 300\n",
      "labels 길이: 300\n",
      "train 길이: 240\n",
      "len(train_x_data): 240\n",
      "len(test_x_data): 60\n"
     ]
    }
   ],
   "source": [
    "print(\"texts 길이:\",len(texts))\n",
    "print(\"labels 길이:\",len(labels))\n",
    "list_size = len(texts)*0.8\n",
    "print(\"train 길이:\", int(list_size))\n",
    "\n",
    "train_x_data, test_x_data =texts[:240],texts[240:]\n",
    "train_y_data, test_y_data =labels[:240],labels[240:]\n",
    "\n",
    "print(\"len(train_x_data): {}\".format(len(train_x_data)))\n",
    "print(\"len(test_x_data): {}\".format(len(test_x_data)))"
   ]
  },
  {
   "cell_type": "code",
   "execution_count": 14,
   "metadata": {},
   "outputs": [
    {
     "name": "stderr",
     "output_type": "stream",
     "text": [
      "Using TensorFlow backend.\n"
     ]
    },
    {
     "name": "stdout",
     "output_type": "stream",
     "text": [
      "train_X_data.shape: (240, 10, 25)\n",
      "test_X_data.shape: (60, 10, 25)\n",
      "[[   0    0    0    0    0    0    0    0    0    0   13  927   17   29\n",
      "   561 1100  562    2   18 1368   98    1    8    2   28]\n",
      " [   0    0    0    0    0    0    0    0    0    0    0    0    9  717\n",
      "    16   18  428   39  106    2    4  105  928  428   91]\n",
      " [   0    0    0    0    0    0    0    0    0    5    2   22  295   30\n",
      "   530  929    2   46    8   30  138  134 1369   98  563]\n",
      " [   0    0    0    0    0    0    0 1916   22 1917   11   79  107    2\n",
      "    23  101 1918   80  564    2  208  327  799    6    8]\n",
      " [  14  168   21  565   16   18  345   42   30   85  596   27  262 1919\n",
      "     1  718  296   14   17    7   21   54    6   64  800]\n",
      " [   0    0    0    0    0    0    0    0    0    0    0    0    0    0\n",
      "     0    0    0    0    0    0    0    0    0    0    0]\n",
      " [   0    0    0    0    0    0    0    0    0    0    0    0    0    0\n",
      "     0    0    0    0    0    0    0    0    0    0    0]\n",
      " [   0    0    0    0    0    0    0    0    0    0    0    0    0    0\n",
      "     0    0    0    0    0    0    0    0    0    0    0]\n",
      " [   0    0    0    0    0    0    0    0    0    0    0    0    0    0\n",
      "     0    0    0    0    0    0    0    0    0    0    0]\n",
      " [   0    0    0    0    0    0    0    0    0    0    0    0    0    0\n",
      "     0    0    0    0    0    0    0    0    0    0    0]]\n"
     ]
    }
   ],
   "source": [
    "import numpy as np\n",
    "#텍스트 데이터는 전처리 과정을 통해 모델에 데이터를 정제하는 과정을 필요로함\n",
    "#이러한 전처리 과정에 사용할 모듈\n",
    "from keras.preprocessing.text import Tokenizer\n",
    "from keras.preprocessing.sequence import pad_sequences\n",
    "from keras.utils import to_categorical\n",
    "from nltk.tokenize import sent_tokenize\n",
    "\n",
    "tokenizer = Tokenizer()\n",
    "tokenizer.fit_on_texts(train_x_data)\n",
    "tokenizer.fit_on_texts(test_x_data)\n",
    "\n",
    "max_nb_words = len(tokenizer.word_index) + 1\n",
    "\n",
    "def doc2hierarchical(text,\n",
    "                     max_sentences=MAX_SENTENCES,\n",
    "                     max_sentence_length=MAX_SENTENCE_LENGTH):\n",
    "    sentences = sent_tokenize(text)\n",
    "    tokenized_sentences = tokenizer.texts_to_sequences(sentences)\n",
    "    tokenized_sentences = pad_sequences(tokenized_sentences, maxlen=max_sentence_length)\n",
    "\n",
    "    pad_size = max_sentences - tokenized_sentences.shape[0]\n",
    "\n",
    "    if pad_size <= 0:  # tokenized_sentences.shape[0] < max_sentences\n",
    "        tokenized_sentences = tokenized_sentences[:max_sentences]\n",
    "    else:\n",
    "        tokenized_sentences = np.pad(\n",
    "            tokenized_sentences, ((0, pad_size), (0, 0)),\n",
    "            mode='constant', constant_values=0\n",
    "        )\n",
    "    \n",
    "    return tokenized_sentences\n",
    "            \n",
    "def build_dataset(x_data, y_data, \n",
    "                  max_sentences=MAX_SENTENCES, \n",
    "                  max_sentence_length=MAX_SENTENCE_LENGTH,\n",
    "                  tokenizer=tokenizer):\n",
    "    \n",
    "    nb_instances = len(x_data)\n",
    "    X_data = np.zeros((nb_instances, max_sentences, max_sentence_length), dtype='int32')\n",
    "    for i, review in enumerate(x_data):\n",
    "        tokenized_sentences = doc2hierarchical(review)\n",
    "            \n",
    "        X_data[i] = tokenized_sentences[None, ...]\n",
    "        \n",
    "    nb_classes = len(set(y_data))\n",
    "    Y_data = to_categorical(y_data, nb_classes)\n",
    "    \n",
    "    return X_data, Y_data\n",
    "\n",
    "train_X_data, train_Y_data = build_dataset(train_x_data, train_y_data)\n",
    "test_X_data, test_Y_data = build_dataset(test_x_data, test_y_data)\n",
    "\n",
    "print(\"train_X_data.shape: {}\".format(train_X_data.shape))\n",
    "print(\"test_X_data.shape: {}\".format(test_X_data.shape))\n",
    "print(train_X_data[0])"
   ]
  },
  {
   "cell_type": "code",
   "execution_count": 15,
   "metadata": {
    "colab": {
     "base_uri": "https://localhost:8080/",
     "height": 283
    },
    "colab_type": "code",
    "executionInfo": {
     "elapsed": 844,
     "status": "error",
     "timestamp": 1575898061385,
     "user": {
      "displayName": "김정인",
      "photoUrl": "https://lh3.googleusercontent.com/a-/AAuE7mDsqe_my_cxIWOBclqNcFbcEx8OBBtgMpEstrEEsg=s64",
      "userId": "11915939704307778496"
     },
     "user_tz": -540
    },
    "id": "2kgln67rOgPQ",
    "outputId": "77151f23-4273-46cb-e5fd-a4841ea57107"
   },
   "outputs": [
    {
     "name": "stdout",
     "output_type": "stream",
     "text": [
      "train_X_data.shape: (216, 10, 25)\n",
      "train_Y_data.shape: (216, 2)\n",
      "val_X_data.shape: (24, 10, 25)\n",
      "val_Y_data.shape: (24, 2)\n"
     ]
    }
   ],
   "source": [
    "from sklearn.model_selection import train_test_split\n",
    "train_X_data, val_X_data, train_Y_data, val_Y_data = train_test_split(train_X_data, train_Y_data, \n",
    "                                                                      test_size=0.1, \n",
    "                                                                      random_state=42)\n",
    "\n",
    "print(\"train_X_data.shape: {}\".format(train_X_data.shape))\n",
    "print(\"train_Y_data.shape: {}\".format(train_Y_data.shape))\n",
    "print(\"val_X_data.shape: {}\".format(val_X_data.shape))\n",
    "print(\"val_Y_data.shape: {}\".format(val_Y_data.shape))"
   ]
  },
  {
   "cell_type": "code",
   "execution_count": 16,
   "metadata": {
    "colab": {
     "base_uri": "https://localhost:8080/",
     "height": 198
    },
    "colab_type": "code",
    "executionInfo": {
     "elapsed": 1534,
     "status": "error",
     "timestamp": 1575897382911,
     "user": {
      "displayName": "김정인",
      "photoUrl": "https://lh3.googleusercontent.com/a-/AAuE7mDsqe_my_cxIWOBclqNcFbcEx8OBBtgMpEstrEEsg=s64",
      "userId": "11915939704307778496"
     },
     "user_tz": -540
    },
    "id": "yjaL__WjPNOv",
    "outputId": "1b845d2a-1f4c-4224-8a34-fbd782703de0"
   },
   "outputs": [
    {
     "name": "stdout",
     "output_type": "stream",
     "text": [
      "embedding_matrix.shape: (3865, 300)\n"
     ]
    }
   ],
   "source": [
    "embedding_dir = '/Users/kji/Desktop/embeddings'\n",
    "\n",
    "\n",
    "def load_word2vec(tokenizer=tokenizer):\n",
    "    from gensim.models import KeyedVectors\n",
    "    embedding_path = os.path.join(embedding_dir, 'GoogleNews-vectors-negative300.bin')\n",
    "    embeddings_index = KeyedVectors.load_word2vec_format(embedding_path, binary=True)\n",
    "    \n",
    "    return embeddings_index\n",
    "    \n",
    "def load_embedding(embedding_type='word2vec',\n",
    "                   tokenizer=tokenizer,\n",
    "                   embedding_dim=300):\n",
    "    \n",
    "    if embedding_type == 'word2vec':\n",
    "        embeddings_index = load_word2vec()\n",
    "        \n",
    "    embedding_matrix = np.random.normal(0, 1, (max_nb_words, embedding_dim))\n",
    "    for word, i in tokenizer.word_index.items():\n",
    "        try:\n",
    "            embedding_vector = embeddings_index[word]\n",
    "        except KeyError:\n",
    "            embedding_vector = None\n",
    "        if embedding_vector is not None:\n",
    "            embedding_matrix[i] = embedding_vector\n",
    "            \n",
    "    return embedding_matrix\n",
    "\n",
    "embedding_matrix = load_embedding('word2vec')\n",
    "print(\"embedding_matrix.shape: {}\".format(embedding_matrix.shape))"
   ]
  },
  {
   "cell_type": "code",
   "execution_count": 17,
   "metadata": {
    "colab": {},
    "colab_type": "code",
    "id": "u4Dvy6QfbjEp"
   },
   "outputs": [],
   "source": [
    "import keras\n",
    "from keras import backend as K\n",
    "from keras.engine.topology import Layer\n",
    "from keras.layers import CuDNNGRU\n",
    "from keras.layers import Input, Embedding, Dense\n",
    "from keras.layers import Lambda, Permute, RepeatVector, Multiply\n",
    "from keras.layers import Bidirectional, TimeDistributed\n",
    "from keras.layers import GRU\n",
    "from keras.layers import BatchNormalization, Dropout\n",
    "from keras.models import Model, Sequential\n",
    "from keras.callbacks import ModelCheckpoint\n",
    "\n",
    "class AttentionLayer(Layer):\n",
    "    def __init__(self, attention_dim, **kwargs):\n",
    "        self.attention_dim = attention_dim\n",
    "        super(AttentionLayer, self).__init__(**kwargs)\n",
    "    \n",
    "    def build(self, input_shape):\n",
    "        self.W = self.add_weight(name='Attention_Weight',\n",
    "                                 shape=(input_shape[-1], self.attention_dim),\n",
    "                                 initializer='random_normal',\n",
    "                                 trainable=True)\n",
    "        self.b = self.add_weight(name='Attention_Bias',\n",
    "                                 shape=(self.attention_dim, ),\n",
    "                                 initializer='random_normal',\n",
    "                                 trainable=True)\n",
    "        self.u = self.add_weight(name='Attention_Context_Vector',\n",
    "                                 shape=(self.attention_dim, 1),\n",
    "                                 initializer='random_normal',\n",
    "                                 trainable=True)\n",
    "        super(AttentionLayer, self).build(input_shape)\n",
    "        \n",
    "    def call(self, x):\n",
    "        # refer to the original paper\n",
    "        # link: https://www.cs.cmu.edu/~hovy/papers/16HLT-hierarchical-attention-networks.pdf\n",
    "        u_it = K.tanh(K.dot(x, self.W) + self.b)\n",
    "        a_it = K.dot(u_it, self.u)\n",
    "        a_it = K.squeeze(a_it, -1)\n",
    "        a_it = K.softmax(a_it)\n",
    "        \n",
    "        return a_it\n",
    "        \n",
    "    def compute_output_shape(self, input_shape):\n",
    "        return (input_shape[0], input_shape[1])\n",
    "    \n",
    "\n",
    "def WeightedSum(attentions, representations):\n",
    "    # from Shape(batch_size, len_units) to Shape(batch_size, rnn_dim * 2, len_units)\n",
    "    repeated_attentions = RepeatVector(K.int_shape(representations)[-1])(attentions)\n",
    "    # from Shape(batch_size, rnn_dim * 2, len_units) to Shape(batch_size, len_units, lstm_dim * 2)\n",
    "    repeated_attentions = Permute([2, 1])(repeated_attentions)\n",
    "\n",
    "    # compute representation as the weighted sum of representations\n",
    "    aggregated_representation = Multiply()([representations, repeated_attentions])\n",
    "    aggregated_representation = Lambda(lambda x: K.sum(x, axis=1))(aggregated_representation)\n",
    "\n",
    "    return aggregated_representation\n",
    "    \n",
    "    \n",
    "def HieAtt(embedding_matrix,\n",
    "           max_sentences,\n",
    "           max_sentence_length,\n",
    "           nb_classes,\n",
    "           embedding_dim=300,\n",
    "           attention_dim=100,\n",
    "           rnn_dim=150,\n",
    "           include_dense_batch_normalization=False,\n",
    "           include_dense_dropout=True,\n",
    "           nb_dense=1,\n",
    "           dense_dim=300,\n",
    "           dense_dropout=0.2,\n",
    "           optimizer = keras.optimizers.Adam(lr=0.001)):\n",
    "\n",
    "    # embedding_matrix = (max_nb_words + 1, embedding_dim)\n",
    "    max_nb_words = embedding_matrix.shape[0] - 1\n",
    "    embedding_layer = Embedding(max_nb_words + 1, \n",
    "                                embedding_dim,\n",
    "                                weights=[embedding_matrix],\n",
    "                                input_length=max_sentence_length,\n",
    "                                trainable=False)\n",
    "\n",
    "    # first, build a sentence encoder\n",
    "    sentence_input = Input(shape=(max_sentence_length, ), dtype='int32')\n",
    "    embedded_sentence = embedding_layer(sentence_input)\n",
    "    embedded_sentence = Dropout(dense_dropout)(embedded_sentence)\n",
    "    contextualized_sentence = Bidirectional(GRU(rnn_dim, return_sequences=True))(embedded_sentence)\n",
    "    \n",
    "    # word attention computation\n",
    "    word_attention = AttentionLayer(attention_dim)(contextualized_sentence)\n",
    "    sentence_representation = WeightedSum(word_attention, contextualized_sentence)\n",
    "    \n",
    "    sentence_encoder = Model(inputs=[sentence_input], \n",
    "                             outputs=[sentence_representation])\n",
    "\n",
    "    # then, build a document encoder\n",
    "    document_input = Input(shape=(max_sentences, max_sentence_length), dtype='int32')\n",
    "    embedded_document = TimeDistributed(sentence_encoder)(document_input)\n",
    "    contextualized_document = Bidirectional(GRU(rnn_dim, return_sequences=True))(embedded_document)\n",
    "    \n",
    "    # sentence attention computation\n",
    "    sentence_attention = AttentionLayer(attention_dim)(contextualized_document)\n",
    "    document_representation = WeightedSum(sentence_attention, contextualized_document)\n",
    "    \n",
    "    # finally, add fc layers for classification\n",
    "    fc_layers = Sequential()\n",
    "    for _ in range(nb_dense):\n",
    "        if include_dense_batch_normalization == True:\n",
    "            fc_layers.add(BatchNormalization())\n",
    "        fc_layers.add(Dense(dense_dim, activation='relu'))\n",
    "        if include_dense_dropout == True:\n",
    "            fc_layers.add(Dropout(dense_dropout))\n",
    "    fc_layers.add(Dense(nb_classes, activation='softmax'))\n",
    "    \n",
    "    pred_sentiment = fc_layers(document_representation)\n",
    "\n",
    "    model = Model(inputs=[document_input],\n",
    "                  outputs=[pred_sentiment])\n",
    "    \n",
    "    ############### build attention extractor ###############\n",
    "    word_attention_extractor = Model(inputs=[sentence_input],\n",
    "                                     outputs=[word_attention])\n",
    "    word_attentions = TimeDistributed(word_attention_extractor)(document_input)\n",
    "    attention_extractor = Model(inputs=[document_input],\n",
    "                                     outputs=[word_attentions, sentence_attention])\n",
    "    \n",
    "    model.compile(loss=['categorical_crossentropy'],\n",
    "              optimizer=optimizer,\n",
    "              metrics=['accuracy'])\n",
    "\n",
    "    return model, attention_extractor\n",
    "\n",
    "\n"
   ]
  },
  {
   "cell_type": "code",
   "execution_count": 18,
   "metadata": {},
   "outputs": [
    {
     "name": "stdout",
     "output_type": "stream",
     "text": [
      "Train on 216 samples, validate on 24 samples\n",
      "Epoch 1/30\n",
      "216/216 [==============================] - 6s 28ms/step - loss: 0.8488 - accuracy: 0.5370 - val_loss: 0.8161 - val_accuracy: 0.5417\n",
      "Epoch 2/30\n"
     ]
    },
    {
     "name": "stderr",
     "output_type": "stream",
     "text": [
      "/Users/kji/hatespeech/lib/python3.7/site-packages/keras/callbacks/callbacks.py:707: RuntimeWarning: Can save best model only with val_acc available, skipping.\n",
      "  'skipping.' % (self.monitor), RuntimeWarning)\n"
     ]
    },
    {
     "name": "stdout",
     "output_type": "stream",
     "text": [
      "216/216 [==============================] - 3s 15ms/step - loss: 0.6628 - accuracy: 0.6481 - val_loss: 0.6986 - val_accuracy: 0.4583\n",
      "Epoch 3/30\n",
      "216/216 [==============================] - 3s 15ms/step - loss: 0.6892 - accuracy: 0.5139 - val_loss: 0.7192 - val_accuracy: 0.5417\n",
      "Epoch 4/30\n",
      "216/216 [==============================] - 3s 15ms/step - loss: 0.6410 - accuracy: 0.6574 - val_loss: 0.7275 - val_accuracy: 0.5417\n",
      "Epoch 5/30\n",
      "216/216 [==============================] - 3s 15ms/step - loss: 0.6496 - accuracy: 0.6574 - val_loss: 0.6859 - val_accuracy: 0.5833\n",
      "Epoch 6/30\n",
      "216/216 [==============================] - 3s 15ms/step - loss: 0.6183 - accuracy: 0.6574 - val_loss: 0.6776 - val_accuracy: 0.6250\n",
      "Epoch 7/30\n",
      "216/216 [==============================] - 3s 15ms/step - loss: 0.6204 - accuracy: 0.6574 - val_loss: 0.6783 - val_accuracy: 0.6250\n",
      "Epoch 8/30\n",
      "216/216 [==============================] - 3s 16ms/step - loss: 0.6261 - accuracy: 0.6620 - val_loss: 0.6929 - val_accuracy: 0.6250\n",
      "Epoch 9/30\n",
      "216/216 [==============================] - 3s 15ms/step - loss: 0.6284 - accuracy: 0.6574 - val_loss: 0.6865 - val_accuracy: 0.6250\n",
      "Epoch 10/30\n",
      "216/216 [==============================] - 3s 15ms/step - loss: 0.6082 - accuracy: 0.6620 - val_loss: 0.6611 - val_accuracy: 0.5833\n",
      "Epoch 11/30\n",
      "216/216 [==============================] - 3s 15ms/step - loss: 0.6111 - accuracy: 0.6759 - val_loss: 0.6526 - val_accuracy: 0.5833\n",
      "Epoch 12/30\n",
      "216/216 [==============================] - 3s 15ms/step - loss: 0.5965 - accuracy: 0.6991 - val_loss: 0.6561 - val_accuracy: 0.5833\n",
      "Epoch 13/30\n",
      "216/216 [==============================] - 3s 15ms/step - loss: 0.5779 - accuracy: 0.7176 - val_loss: 0.6658 - val_accuracy: 0.5833\n",
      "Epoch 14/30\n",
      "216/216 [==============================] - 3s 15ms/step - loss: 0.5724 - accuracy: 0.7130 - val_loss: 0.6646 - val_accuracy: 0.5000\n",
      "Epoch 15/30\n",
      "216/216 [==============================] - 3s 15ms/step - loss: 0.5623 - accuracy: 0.7269 - val_loss: 0.6556 - val_accuracy: 0.6667\n",
      "Epoch 16/30\n",
      "216/216 [==============================] - 3s 15ms/step - loss: 0.5465 - accuracy: 0.7361 - val_loss: 0.6652 - val_accuracy: 0.5417\n",
      "Epoch 17/30\n",
      "216/216 [==============================] - 3s 15ms/step - loss: 0.5248 - accuracy: 0.7407 - val_loss: 0.6770 - val_accuracy: 0.5000\n",
      "Epoch 18/30\n",
      "216/216 [==============================] - 3s 15ms/step - loss: 0.5166 - accuracy: 0.7361 - val_loss: 0.6489 - val_accuracy: 0.6250\n",
      "Epoch 19/30\n",
      "216/216 [==============================] - 3s 15ms/step - loss: 0.4920 - accuracy: 0.7361 - val_loss: 0.6757 - val_accuracy: 0.5833\n",
      "Epoch 20/30\n",
      "216/216 [==============================] - 3s 15ms/step - loss: 0.4781 - accuracy: 0.7778 - val_loss: 0.6926 - val_accuracy: 0.5833\n",
      "Epoch 21/30\n",
      "216/216 [==============================] - 3s 15ms/step - loss: 0.4416 - accuracy: 0.7870 - val_loss: 0.7229 - val_accuracy: 0.6667\n",
      "Epoch 22/30\n",
      "216/216 [==============================] - 3s 16ms/step - loss: 0.4477 - accuracy: 0.7824 - val_loss: 0.7835 - val_accuracy: 0.5833\n",
      "Epoch 23/30\n",
      "216/216 [==============================] - 3s 15ms/step - loss: 0.4123 - accuracy: 0.8148 - val_loss: 0.7460 - val_accuracy: 0.6250\n",
      "Epoch 24/30\n",
      "216/216 [==============================] - 3s 15ms/step - loss: 0.3837 - accuracy: 0.8287 - val_loss: 0.7566 - val_accuracy: 0.6250\n",
      "Epoch 25/30\n",
      "216/216 [==============================] - 3s 15ms/step - loss: 0.3860 - accuracy: 0.8519 - val_loss: 0.7506 - val_accuracy: 0.6667\n",
      "Epoch 26/30\n",
      "216/216 [==============================] - 3s 15ms/step - loss: 0.3441 - accuracy: 0.8611 - val_loss: 0.7236 - val_accuracy: 0.6250\n",
      "Epoch 27/30\n",
      "216/216 [==============================] - 3s 15ms/step - loss: 0.3305 - accuracy: 0.8704 - val_loss: 0.7747 - val_accuracy: 0.6667\n",
      "Epoch 28/30\n",
      "216/216 [==============================] - 3s 15ms/step - loss: 0.3119 - accuracy: 0.8519 - val_loss: 0.6970 - val_accuracy: 0.6250\n",
      "Epoch 29/30\n",
      "216/216 [==============================] - 3s 15ms/step - loss: 0.2578 - accuracy: 0.9167 - val_loss: 0.7453 - val_accuracy: 0.7083\n",
      "Epoch 30/30\n",
      "216/216 [==============================] - 3s 15ms/step - loss: 0.2288 - accuracy: 0.9120 - val_loss: 0.6862 - val_accuracy: 0.6667\n"
     ]
    }
   ],
   "source": [
    "save_folder = os.path.join(\"/Users/kji/Desktop/models\")\n",
    "if not os.path.isdir(save_folder):\n",
    "    os.mkdir(save_folder)\n",
    "model_path = os.path.join(save_folder, \"modell.h5\")\n",
    "\n",
    "checkpointer = ModelCheckpoint(filepath=model_path,\n",
    "                               monitor='val_acc',\n",
    "                               verbose=True,\n",
    "                               save_best_only=True,\n",
    "                               mode='max')\n",
    "\n",
    "model, attention_extractor = HieAtt(embedding_matrix=embedding_matrix,\n",
    "                                    max_sentences=MAX_SENTENCES,\n",
    "                                    max_sentence_length=MAX_SENTENCE_LENGTH,\n",
    "                                    nb_classes=2,\n",
    "                                    embedding_dim=300,\n",
    "                                    attention_dim=100,\n",
    "                                    rnn_dim=150,\n",
    "                                    include_dense_batch_normalization=False,\n",
    "                                    include_dense_dropout=True,\n",
    "                                    nb_dense=1,\n",
    "                                    dense_dim=300,\n",
    "                                    dense_dropout=0.2,\n",
    "                                    optimizer = keras.optimizers.Adam(lr=0.001))\n",
    "\n",
    "history = model.fit(x=[train_X_data],\n",
    "                    y=[train_Y_data],\n",
    "                    batch_size=128,\n",
    "                    epochs=30,\n",
    "                    verbose=True,\n",
    "                    validation_data=(val_X_data, val_Y_data),\n",
    "                    callbacks=[checkpointer])"
   ]
  },
  {
   "cell_type": "code",
   "execution_count": 19,
   "metadata": {},
   "outputs": [
    {
     "name": "stdout",
     "output_type": "stream",
     "text": [
      "Test Accuracy of /Users/kji/Desktop/models/modell.h5: 0.75\n"
     ]
    }
   ],
   "source": [
    "score = model.evaluate(test_X_data, test_Y_data, verbose=0, batch_size=128)\n",
    "print(\"Test Accuracy of {}: {}\".format(model_path, score[1]))"
   ]
  },
  {
   "cell_type": "code",
   "execution_count": 20,
   "metadata": {},
   "outputs": [
    {
     "data": {
      "image/png": "[encoded data removed]",
      "text/plain": [
       "<Figure size 576x72 with 2 Axes>"
      ]
     },
     "metadata": {
      "needs_background": "light"
     },
     "output_type": "display_data"
    },
    {
     "data": {
      "image/png": "[encoded data removed]",
      "text/plain": [
       "<Figure size 432x72 with 2 Axes>"
      ]
     },
     "metadata": {
      "needs_background": "light"
     },
     "output_type": "display_data"
    },
    {
     "data": {
      "image/png": "[encoded data removed]",
      "text/plain": [
       "<Figure size 576x72 with 2 Axes>"
      ]
     },
     "metadata": {
      "needs_background": "light"
     },
     "output_type": "display_data"
    }
   ],
   "source": [
    "import seaborn as sn\n",
    "from matplotlib.pyplot import *\n",
    "import matplotlib.pyplot as plt\n",
    "\n",
    "word_rev_index = {}\n",
    "for word, i in tokenizer.word_index.items():\n",
    "    word_rev_index[i] = word\n",
    "\n",
    "def sentiment_analysis(review):        \n",
    "    tokenized_sentences = doc2hierarchical(review)\n",
    "    \n",
    "    # word attention만 가져오기\n",
    "    pred_attention = attention_extractor.predict(np.asarray([tokenized_sentences]))[0][0]\n",
    "    for sent_idx, sentence in enumerate(tokenized_sentences):\n",
    "        if sentence[-1] == 0:\n",
    "            continue\n",
    "            \n",
    "        for word_idx in range(MAX_SENTENCE_LENGTH):\n",
    "            if sentence[word_idx] != 0:\n",
    "                words = [word_rev_index[word_id] for word_id in sentence[word_idx:]]\n",
    "                pred_att = pred_attention[sent_idx][-len(words):]\n",
    "                pred_att = np.expand_dims(pred_att, axis=0)\n",
    "                break\n",
    "\n",
    "        fig, ax = plt.subplots(figsize=(len(words), 1))\n",
    "        plt.rc('xtick', labelsize=16)\n",
    "        midpoint = (max(pred_att[:, 0]) - min(pred_att[:, 0])) / 2\n",
    "        heatmap = sn.heatmap(pred_att, xticklabels=words, yticklabels=False, square=True, linewidths=0.1, cmap='coolwarm', center=midpoint, vmin=0, vmax=1)\n",
    "        plt.xticks(rotation=45)\n",
    "        plt.show()\n",
    "        \n",
    "\n",
    "sentiment_analysis(\"I love their pork dumplings with napa cabbage. Also, their hot sauce is amazing. I wish I knew how to make it!\")"
   ]
  },
  {
   "cell_type": "code",
   "execution_count": 21,
   "metadata": {},
   "outputs": [
    {
     "data": {
      "image/png": "[encoded data removed]",
      "text/plain": [
       "<Figure size 720x72 with 2 Axes>"
      ]
     },
     "metadata": {
      "needs_background": "light"
     },
     "output_type": "display_data"
    }
   ],
   "source": [
    "import seaborn as sn\n",
    "from matplotlib import pyplot as plt\n",
    "\n",
    "word_rev_index = {}\n",
    "for word, i in tokenizer.word_index.items():\n",
    "    word_rev_index[i] = word\n",
    "\n",
    "def sentiment_analysis(review):        \n",
    "    tokenized_sentences = doc2hierarchical(review)\n",
    "    \n",
    "    # word attention만 가져오기\n",
    "    pred_attention = attention_extractor.predict(np.asarray([tokenized_sentences]))[0][0]\n",
    "    for sent_idx, sentence in enumerate(tokenized_sentences):\n",
    "        if sentence[-1] == 0:\n",
    "            continue\n",
    "            \n",
    "        for word_idx in range(MAX_SENTENCE_LENGTH):\n",
    "            if sentence[word_idx] != 0:\n",
    "                words = [word_rev_index[word_id] for word_id in sentence[word_idx:]]\n",
    "                pred_att = pred_attention[sent_idx][-len(words):]\n",
    "                pred_att = np.expand_dims(pred_att, axis=0)\n",
    "                break\n",
    "\n",
    "        fig, ax = plt.subplots(figsize=(len(words), 1))\n",
    "        plt.rc('xtick', labelsize=16)\n",
    "        midpoint = (max(pred_att[:, 0]) - min(pred_att[:, 0])) / 2\n",
    "        heatmap = sn.heatmap(pred_att, xticklabels=words, yticklabels=False, square=True, linewidths=0.1, cmap='coolwarm', center=midpoint, vmin=0, vmax=1)\n",
    "        plt.xticks(rotation=45)\n",
    "        plt.show()\n",
    "        \n",
    "sentiment_analysis(\"RT @lahellraiser call me sexist if you want, but I find female sportscasters really annoying.\")"
   ]
  },
  {
   "cell_type": "code",
   "execution_count": 22,
   "metadata": {},
   "outputs": [
    {
     "data": {
      "image/png": "[encoded data removed]",
      "text/plain": [
       "<Figure size 576x144 with 2 Axes>"
      ]
     },
     "metadata": {
      "needs_background": "light"
     },
     "output_type": "display_data"
    },
    {
     "data": {
      "image/png": "[encoded data removed]",
      "text/plain": [
       "<Figure size 432x144 with 2 Axes>"
      ]
     },
     "metadata": {
      "needs_background": "light"
     },
     "output_type": "display_data"
    },
    {
     "data": {
      "image/png": "[encoded data removed]",
      "text/plain": [
       "<Figure size 576x144 with 2 Axes>"
      ]
     },
     "metadata": {
      "needs_background": "light"
     },
     "output_type": "display_data"
    }
   ],
   "source": [
    "word_rev_index = {}\n",
    "for word, i in tokenizer.word_index.items():\n",
    "    word_rev_index[i] = word\n",
    "\n",
    "def sentiment_analysis(review):    \n",
    "    sentences = sent_tokenize(review)\n",
    "    tokenized_sentences = tokenizer.texts_to_sequences(sentences)\n",
    "    tokenized_sentences = pad_sequences(tokenized_sentences, maxlen=MAX_SENTENCE_LENGTH)\n",
    "    pad_size = MAX_SENTENCES - tokenized_sentences.shape[0]\n",
    "\n",
    "    if pad_size <= 0:\n",
    "        tokenized_sentences = tokenized_sentences[:MAX_SENTENCES]\n",
    "    else:\n",
    "        tokenized_sentences = np.pad(\n",
    "            tokenized_sentences, ((0, pad_size), (0, 0)),\n",
    "            mode='constant', constant_values=0\n",
    "        )\n",
    "    \n",
    "    # word attention만 가져오기\n",
    "    pred_attention = attention_extractor.predict(np.asarray([tokenized_sentences]))[0]\n",
    "    for i, sentence in enumerate(tokenized_sentences[:-pad_size]):\n",
    "        words = [word_rev_index[word_id] for word_id in sentence if word_id != 0][:50]\n",
    "        pred_att = np.asarray(pred_attention[0][i][::-1][:len(words)][::-1])\n",
    "        pred_att = np.expand_dims(pred_att, axis=0)\n",
    "\n",
    "        fig, ax = plt.subplots(figsize=(len(words), 2))\n",
    "        plt.rc('xtick', labelsize=22)\n",
    "        heatmap = sn.heatmap(pred_att, xticklabels=words, square=True, linewidths=0.1)\n",
    "        plt.xticks(rotation=70)\n",
    "        plt.show()\n",
    "sentiment_analysis(\"I love their pork dumplings with napa cabbage. Also, their hot sauce is amazing. I wish I knew how to make it!\")"
   ]
  }
 ],
 "metadata": {
  "accelerator": "GPU",
  "colab": {
   "collapsed_sections": [],
   "name": "Yelp_crawler2-HAN.ipynb",
   "provenance": []
  },
  "kernelspec": {
   "display_name": "Python 3",
   "language": "python",
   "name": "python3"
  },
  "language_info": {
   "codemirror_mode": {
    "name": "ipython",
    "version": 3
   },
   "file_extension": ".py",
   "mimetype": "text/x-python",
   "name": "python",
   "nbconvert_exporter": "python",
   "pygments_lexer": "ipython3",
   "version": "3.7.4"
  }
 },
 "nbformat": 4,
 "nbformat_minor": 1
}
